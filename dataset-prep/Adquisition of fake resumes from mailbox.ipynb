{
 "cells": [
  {
   "cell_type": "code",
   "execution_count": null,
   "id": "6b263994",
   "metadata": {},
   "outputs": [],
   "source": [
    "import mailbox\n",
    "import re\n",
    "import xlwings as xw\n",
    "import pickle\n",
    "import os\n",
    "from pathlib import Path\n",
    "from pdfminer.high_level import extract_text\n",
    "import pymongo"
   ]
  },
  {
   "cell_type": "markdown",
   "id": "1bd6115c",
   "metadata": {},
   "source": [
    "## Configuration parameters"
   ]
  },
  {
   "cell_type": "code",
   "execution_count": null,
   "id": "4ee24bdd",
   "metadata": {},
   "outputs": [],
   "source": [
    "mboxfile = os.environ.get(\"MBOX_FILE\")\n",
    "xls_file = os.environ.get(\"XLS_FILE\")"
   ]
  },
  {
   "cell_type": "markdown",
   "id": "de6c6ab7",
   "metadata": {},
   "source": [
    "## Identification of the *fake* e-mails from my mbox by querying the master Excel table"
   ]
  },
  {
   "cell_type": "code",
   "execution_count": null,
   "id": "c48131c4",
   "metadata": {},
   "outputs": [],
   "source": [
    "with xw.App() as app:\n",
    "    book = xw.Book(xls_file)\n",
    "    sheet = book.sheets[0]\n",
    "    emails = sheet[0:, 1].value\n",
    "    num_row = sheet.range('A1').end('down').row\n",
    "\n",
    "    # collect data\n",
    "    content_list = sheet.range((1,2),(num_row,2)).value\n",
    "    \n",
    "    book.close()"
   ]
  },
  {
   "cell_type": "code",
   "execution_count": null,
   "id": "84c9de25",
   "metadata": {},
   "outputs": [],
   "source": [
    "emails = [email.lower().strip() for email in content_list]"
   ]
  },
  {
   "cell_type": "code",
   "execution_count": null,
   "id": "269bdbd9",
   "metadata": {},
   "outputs": [],
   "source": [
    "f = re.compile(r'[\\w.-]+@[\\w.-]+\\.\\w+')\n",
    "# alternative for e-mail regex\n",
    "badones = set()\n",
    "not_identified = set()\n",
    "\n",
    "for thisemail in mailbox.mbox(mboxfile):\n",
    "    match = f.search(str(thisemail['From']))\n",
    "    if match is not None:\n",
    "        msender = match.group().lower().strip()\n",
    "        if (msender in emails):\n",
    "            badones.add(msender)\n",
    "        else:\n",
    "            not_identified.add(msender)"
   ]
  },
  {
   "cell_type": "code",
   "execution_count": null,
   "id": "b59ebe81",
   "metadata": {},
   "outputs": [],
   "source": [
    "# Serialization and saving of the \"bad e-mail\" set for further use\n",
    "path = './pickles'\n",
    "Path(path).mkdir(parents=True, exist_ok=True)\n",
    "\n",
    "with open(os.path.join(path, 'badones.pickle'), 'wb') as f:\n",
    "    pickle.dump(badones, f, pickle.HIGHEST_PROTOCOL)\n",
    "    \n",
    "with open(os.path.join(path, 'goodones.pickle'), 'wb') as f:\n",
    "    pickle.dump(not_identified, f, pickle.HIGHEST_PROTOCOL)    "
   ]
  },
  {
   "cell_type": "markdown",
   "id": "16b80f54",
   "metadata": {},
   "source": [
    "## Extraction of the attached pdfs from the *bad* emails"
   ]
  },
  {
   "cell_type": "markdown",
   "id": "ff0cefef",
   "metadata": {},
   "source": [
    "**Structure of the messages**\n",
    "\n",
    "*Either:*\n",
    "\n",
    "One part message with content type: text/plain\n",
    "\n",
    "\n",
    "*Or*\n",
    "\n",
    "Multipart message\n",
    "\n",
    "*Subparts of the multipart message:*\n",
    "\n",
    "Content type multipart/mixed\n",
    "\n",
    "Content type text/plain\n",
    "\n",
    "Content type application/octet-stream"
   ]
  },
  {
   "cell_type": "markdown",
   "id": "d9a88315",
   "metadata": {},
   "source": [
    "## Helper functions"
   ]
  },
  {
   "cell_type": "code",
   "execution_count": null,
   "id": "b18d110f",
   "metadata": {},
   "outputs": [],
   "source": [
    "def getcharsets(msg):\n",
    "    charsets = set({})\n",
    "    for c in msg.get_charsets():\n",
    "        if c is not None:\n",
    "            charsets.update([c])\n",
    "    return charsets\n",
    "\n",
    "def handleerror(errmsg, emailmsg,cs):\n",
    "    print()\n",
    "    print(errmsg)\n",
    "    print(\"This error occurred while decoding with \",cs,\" charset.\")\n",
    "    print(\"These charsets were found in the one email.\",getcharsets(emailmsg))\n",
    "    print(\"This is the subject:\",emailmsg['subject'])\n",
    "    print(\"This is the sender:\",emailmsg['From'])\n",
    "\n",
    "def getbodyfromemail(msg, msender, status):\n",
    "    body = None\n",
    "    path = ''\n",
    "    if (status == 'bad'):\n",
    "        path = './badones'\n",
    "    elif (status == 'not_identified'):\n",
    "        path = './not_identified'\n",
    "    Path(path).mkdir(parents=True, exist_ok=True)\n",
    "\n",
    "    #Walk through the parts of the email to find the text body.\n",
    "    # We save the the attachment (pdf-file) as [e-mail].pdf\n",
    "    if msg.is_multipart():    \n",
    "        print('Multipart message from:', msender)\n",
    "        for part in msg.walk():\n",
    "            # If part is multipart, walk through the subparts.            \n",
    "            if part.is_multipart(): \n",
    "                print('Part in multipart message from:', msg['From'])\n",
    "                for subpart in part.walk():\n",
    "                    if subpart.get_content_type() == 'application/octet-stream':\n",
    "                        filename = msender + '.pdf'\n",
    "                        # filename = subpart.get_filename()\n",
    "                        # this regex is being updated through usage\n",
    "                        # if re.search(r\"[\\?\\n]\", filename): continue\n",
    "                        # Changing file name to sender address\n",
    "                        fb = open(os.path.join(path, filename),'wb')\n",
    "                        fb.write(subpart.get_payload(decode=True))\n",
    "                        fb.close()\n",
    "                \n",
    "    else:\n",
    "        # if msg.get_content_type() == 'text/plain':\n",
    "        print('One part message with content type:', msg.get_content_type(), 'from:', msg['From'])\n",
    "        body = msg.get_payload(decode=True) \n",
    "        \n",
    "    return msender    "
   ]
  },
  {
   "cell_type": "code",
   "execution_count": null,
   "id": "beda4835",
   "metadata": {
    "scrolled": true
   },
   "outputs": [],
   "source": [
    "f = re.compile(r'[\\w.-]+@[\\w.-]+\\.\\w+')\n",
    "\n",
    "for thisemail in mailbox.mbox(mboxfile):\n",
    "    match = f.search(str(thisemail['From']))\n",
    "    if match is not None:\n",
    "        msender = match.group(0).lower().strip()\n",
    "        if (msender in badones):\n",
    "            getbodyfromemail(thisemail, msender, 'bad')\n",
    "        else:    \n",
    "            getbodyfromemail(thisemail, msender, 'not_identified')"
   ]
  },
  {
   "cell_type": "code",
   "execution_count": null,
   "id": "3c6e39b9",
   "metadata": {},
   "outputs": [],
   "source": []
  }
 ],
 "metadata": {
  "kernelspec": {
   "display_name": "Python 3 (ipykernel)",
   "language": "python",
   "name": "python3"
  },
  "language_info": {
   "codemirror_mode": {
    "name": "ipython",
    "version": 3
   },
   "file_extension": ".py",
   "mimetype": "text/x-python",
   "name": "python",
   "nbconvert_exporter": "python",
   "pygments_lexer": "ipython3",
   "version": "3.9.7"
  }
 },
 "nbformat": 4,
 "nbformat_minor": 5
}
