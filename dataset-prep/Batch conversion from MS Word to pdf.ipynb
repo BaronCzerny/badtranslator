{
 "cells": [
  {
   "cell_type": "markdown",
   "id": "091f3e11",
   "metadata": {},
   "source": [
    "This script requires to have MS Word installed on your system"
   ]
  },
  {
   "cell_type": "code",
   "execution_count": null,
   "id": "901379a3",
   "metadata": {},
   "outputs": [],
   "source": [
    "import sys\n",
    "import os,os.path\n",
    "import comtypes.client"
   ]
  },
  {
   "cell_type": "markdown",
   "id": "565a6118",
   "metadata": {},
   "source": [
    "## Configuration"
   ]
  },
  {
   "cell_type": "code",
   "execution_count": null,
   "id": "834cde99",
   "metadata": {},
   "outputs": [],
   "source": [
    "wdFormatPDF = 17\n",
    "dir_with_wordf = 'E:\\Documentos\\Bad Translator\\corpus-preparation\\goodones'"
   ]
  },
  {
   "cell_type": "markdown",
   "id": "9afda887",
   "metadata": {},
   "source": [
    "## Processing"
   ]
  },
  {
   "cell_type": "code",
   "execution_count": null,
   "id": "e4b89c84",
   "metadata": {},
   "outputs": [],
   "source": [
    "for root, dirs, files in os.walk(dir_with_wordf):\n",
    "\n",
    "    for f in files:\n",
    "        if  f.endswith(\".doc\") or f.endswith(\".odt\") or f.endswith(\".rtf\") or f.endswith(\".txt\"):\n",
    "            try:\n",
    "                print(f)\n",
    "                in_file=os.path.join(root,f)\n",
    "                word = comtypes.client.CreateObject('Word.Application')\n",
    "                doc = word.Documents.Open(in_file)\n",
    "                doc.SaveAs(os.path.join(root,f[:-4]), FileFormat=wdFormatPDF)\n",
    "                doc.Close()\n",
    "                word.Quit()\n",
    "                print ('done')\n",
    "                pass\n",
    "            except:\n",
    "                print('could not open')\n",
    "        elif f.endswith(\".docx\") or f.endswith(\".dotm\") or f.endswith(\".docm\"):\n",
    "            try:\n",
    "                print(f)\n",
    "                in_file=os.path.join(root,f)\n",
    "                word = comtypes.client.CreateObject('Word.Application')\n",
    "                doc = word.Documents.Open(in_file)\n",
    "                doc.SaveAs(os.path.join(root,f[:-5]), FileFormat=wdFormatPDF)\n",
    "                doc.Close()\n",
    "                word.Quit()\n",
    "                print ('done')\n",
    "                pass\n",
    "            except:\n",
    "                print('could not open')\n",
    "        else:\n",
    "            pass"
   ]
  },
  {
   "cell_type": "code",
   "execution_count": null,
   "id": "fbf6e68c",
   "metadata": {},
   "outputs": [],
   "source": []
  }
 ],
 "metadata": {
  "kernelspec": {
   "display_name": "Python 3 (ipykernel)",
   "language": "python",
   "name": "python3"
  },
  "language_info": {
   "codemirror_mode": {
    "name": "ipython",
    "version": 3
   },
   "file_extension": ".py",
   "mimetype": "text/x-python",
   "name": "python",
   "nbconvert_exporter": "python",
   "pygments_lexer": "ipython3",
   "version": "3.9.7"
  }
 },
 "nbformat": 4,
 "nbformat_minor": 5
}
