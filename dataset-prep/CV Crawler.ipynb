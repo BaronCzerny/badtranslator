{
 "cells": [
  {
   "cell_type": "code",
   "execution_count": null,
   "id": "a8bec228",
   "metadata": {},
   "outputs": [],
   "source": [
    "from urllib.request import urlopen\n",
    "from urllib.request import urlretrieve\n",
    "from bs4 import BeautifulSoup\n",
    "import requests\n",
    "from selenium import webdriver\n",
    "from selenium.webdriver.common.by import By\n",
    "import re\n",
    "import time"
   ]
  },
  {
   "cell_type": "markdown",
   "id": "d9ef1988",
   "metadata": {},
   "source": [
    "## Configuration data"
   ]
  },
  {
   "cell_type": "code",
   "execution_count": null,
   "id": "3007e140",
   "metadata": {},
   "outputs": [],
   "source": [
    "startpage = \"https://www2.proz.com/find?lpe=3&st=1&q=&sl=esl&tl=eng&nit=y&nl=eng&lpe=3&ee=specialty&v=h&m=n\"\n",
    "# \"https://www2.proz.com/find?lpe=3&st=1&q=&sl=deu&tl=eng&nit=y&nl=eng&lpe=3&ee=specialty&v=h\"\n",
    "# \"https://www2.proz.com/find?slwz=esl&tlwz=eng&lpe=3&nl_wz=target&st=1&q=&sl=esl&tl=eng&nit=y&lpe=8&ee=specialty\"\n",
    "webprefix = \"https://www2.proz.com\"\n",
    "username = \"m.marti.menzel@eurotransmit.com\"\n",
    "password = \"CuRaBRp9g8buXDr\""
   ]
  },
  {
   "cell_type": "markdown",
   "id": "44b4a636",
   "metadata": {},
   "source": [
    "## Utility functions"
   ]
  },
  {
   "cell_type": "code",
   "execution_count": null,
   "id": "5b9f902b",
   "metadata": {},
   "outputs": [],
   "source": [
    "def grabCV(trltrPage, trltrtName):\n",
    "    trltrHref = \"\"\n",
    "    dlFileName = \"\"\n",
    "    \n",
    "    r = requests.get(trltrPage, cookies=s.cookies)\n",
    "    bs = BeautifulSoup(r.content, 'html.parser')\n",
    "\n",
    "    # Find the tag that contains \"CV/Resume\"\n",
    "#   resumeTag = bs.find(lambda tag: len(tag.findAll()) == 0 and \"CV/Resume\" in tag.text) # Alternative statement\n",
    "    resumeText = bs.body.find(text=re.compile('CV/Resume'))\n",
    "    \n",
    "    # If the tag is hidden, resort to Selenium\n",
    "    if (resumeText == None):\n",
    "        selContents = selActionVisible(trltrPage)\n",
    "        if selContents == None:\n",
    "            return None\n",
    "        bsS = BeautifulSoup(selContents, 'html.parser')\n",
    "        resumeText = bsS.body.find(text=re.compile('CV/Resume'))\n",
    "        if (resumeText == None):\n",
    "            return None\n",
    "\n",
    "    resumeTag = resumeText.parent\n",
    "\n",
    "    resumeTagA = resumeTag.nextSibling.nextSibling.find('a')  # Double nextSibling because of blank spaces       \n",
    "\n",
    "    if (resumeTagA is not None):\n",
    "        trltrHref = resumeTagA.attrs['href']\n",
    "    else:\n",
    "        return None\n",
    "\n",
    "    print(trltrHref)\n",
    "    # Open the stream to the local file\n",
    "    if (trltrHref != \"\"):\n",
    "        rd = requests.get(trltrHref)\n",
    "        print(rd.headers[\"Content-Type\"])\n",
    "        if (rd.headers[\"Content-Type\"] == 'application/msword'):\n",
    "            dlFileName = trltrtName + \".doc\"\n",
    "        elif (rd.headers[\"Content-Type\"] == 'application/pdf'):\n",
    "            dlFileName = trltrtName + \".pdf\"\n",
    "        elif (rd.headers[\"Content-Type\"] == 'application/rtf'):\n",
    "            dlFileName = trltrtName + \".rtf\"\n",
    "        elif (rd.headers[\"Content-Type\"] == 'application/vnd.openxmlformats-officedocument.wordprocessingml.document'):    \n",
    "            dlFileName = trltrtName + \".docx\"\n",
    "        elif (rd.headers[\"Content-Type\"] == 'application/vnd.oasis.opendocument.text'):    \n",
    "            dlFileName = trltrtName + \".odt\"\n",
    "        else:\n",
    "            dlFileName = trltrtName + \".txt\"\n",
    "        with open(dlFileName, 'wb') as outfile:\n",
    "            outfile.write(rd.content)\n",
    "    \n",
    "        "
   ]
  },
  {
   "cell_type": "code",
   "execution_count": null,
   "id": "f8f1f4ab",
   "metadata": {},
   "outputs": [],
   "source": [
    "def selActionVisible(trltrPage):\n",
    "    driver.get(trltrPage)\n",
    "    for setCookie in cookieList:\n",
    "        driver.add_cookie(setCookie)\n",
    "\n",
    "    driver.implicitly_wait(2)\n",
    "\n",
    "    jsActionLink = driver.find_elements(By.XPATH, '//a[@href=\"javascript:toggleDivVisibility(\\'standard\\');\"]')\n",
    "    if len(jsActionLink) > 0:\n",
    "        jsActionLink[0].click()\n",
    "        return(driver.page_source)\n",
    "\n",
    "    return None"
   ]
  },
  {
   "cell_type": "code",
   "execution_count": null,
   "id": "0c95e3ca",
   "metadata": {},
   "outputs": [],
   "source": [
    "def processTranslators(translatorList):\n",
    "    for translator in translatorList:\n",
    "        trltrtName = translator.get_text().strip().encode('utf-8').decode('utf-8')\n",
    "        print(trltrtName)\n",
    "        trltrPage = webprefix + translator.attrs['href']\n",
    "        grabCV(trltrPage, trltrtName)\n",
    "        time.sleep(3)    "
   ]
  },
  {
   "cell_type": "code",
   "execution_count": null,
   "id": "9f15086e",
   "metadata": {},
   "outputs": [],
   "source": [
    "def openSoupify(url, s):\n",
    "    r = requests.get(url, cookies=s.cookies)\n",
    "    print(\"Status code: \", r.status_code)\n",
    "\n",
    "    bs = BeautifulSoup(r.content, 'html.parser')\n",
    "    translatorList = bs.findAll('a', {'class':'result-name profile-view'})\n",
    "    processTranslators(translatorList)\n",
    "\n",
    "    pagULs = bs.find('ul', {'class':'pagination'})\n",
    "    pageNext = webprefix + pagULs.findAll('a', href=True, text=re.compile('Next'))[0].attrs['href']\n",
    "    \n",
    "    return pageNext"
   ]
  },
  {
   "cell_type": "markdown",
   "id": "b763e0de",
   "metadata": {},
   "source": [
    "## Session handling"
   ]
  },
  {
   "cell_type": "markdown",
   "id": "75e7ae0d",
   "metadata": {},
   "source": [
    "Log in and request the cookies programatically."
   ]
  },
  {
   "cell_type": "code",
   "execution_count": null,
   "id": "43757d0e",
   "metadata": {},
   "outputs": [],
   "source": [
    "session = requests.Session()"
   ]
  },
  {
   "cell_type": "code",
   "execution_count": null,
   "id": "ea44241f",
   "metadata": {},
   "outputs": [],
   "source": [
    "params = {'username': username, 'password': password}\n",
    "\n",
    "s = session.post(startpage, params)\n",
    "\n",
    "cookieList = []\n",
    "cookieList = [{\"name\" : key, \"value\"  : val} for key, val in s.cookies.get_dict().items()]"
   ]
  },
  {
   "cell_type": "markdown",
   "id": "e9c52ab3",
   "metadata": {},
   "source": [
    "## Dynamic scraping initialization"
   ]
  },
  {
   "cell_type": "code",
   "execution_count": null,
   "id": "c0814aa5",
   "metadata": {},
   "outputs": [],
   "source": [
    "driver = webdriver.Firefox()"
   ]
  },
  {
   "cell_type": "markdown",
   "id": "81cadaa9",
   "metadata": {},
   "source": [
    "## Get and analize start page"
   ]
  },
  {
   "cell_type": "code",
   "execution_count": null,
   "id": "87fb148f",
   "metadata": {},
   "outputs": [],
   "source": [
    "nextPage = openSoupify(startpage, s)"
   ]
  },
  {
   "cell_type": "markdown",
   "id": "118525ca",
   "metadata": {},
   "source": [
    "## Iteration through the complete result set"
   ]
  },
  {
   "cell_type": "code",
   "execution_count": null,
   "id": "87e42f2f",
   "metadata": {},
   "outputs": [],
   "source": [
    "while (nextPage != \"\"):\n",
    "    print(nextPage)\n",
    "    nextPage = openSoupify(nextPage, s)"
   ]
  },
  {
   "cell_type": "markdown",
   "id": "bd5d8aa5",
   "metadata": {},
   "source": [
    "ToDo:\n",
    "- Problem with UTF8 translator names\n",
    "- Big delay When it does not find the CV tag in Selenium\n",
    "- while (nextPage is not None) is not a valid check\n",
    "- Does not grab the CV in certain pages (https://www.proz.com/profile/3745000?phpv_redirected=1)\n",
    "\n"
   ]
  },
  {
   "cell_type": "code",
   "execution_count": null,
   "id": "124ff192",
   "metadata": {},
   "outputs": [],
   "source": [
    "grabCV(\"https://www.proz.com/profile/3745000\", \"Litzy Rafael-Osorio\")"
   ]
  },
  {
   "cell_type": "code",
   "execution_count": null,
   "id": "61aa9112",
   "metadata": {},
   "outputs": [],
   "source": []
  }
 ],
 "metadata": {
  "kernelspec": {
   "display_name": "Python 3 (ipykernel)",
   "language": "python",
   "name": "python3"
  },
  "language_info": {
   "codemirror_mode": {
    "name": "ipython",
    "version": 3
   },
   "file_extension": ".py",
   "mimetype": "text/x-python",
   "name": "python",
   "nbconvert_exporter": "python",
   "pygments_lexer": "ipython3",
   "version": "3.9.7"
  }
 },
 "nbformat": 4,
 "nbformat_minor": 5
}
