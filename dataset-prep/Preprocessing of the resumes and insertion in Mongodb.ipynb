{
 "cells": [
  {
   "cell_type": "code",
   "execution_count": 37,
   "id": "b5df0760",
   "metadata": {},
   "outputs": [],
   "source": [
    "import os\n",
    "from io import StringIO\n",
    "\n",
    "from pdfminer.high_level import extract_text\n",
    "from pdfminer.converter import TextConverter\n",
    "from pdfminer.layout import LAParams\n",
    "from pdfminer.pdfdocument import PDFDocument\n",
    "from pdfminer.pdfinterp import PDFResourceManager, PDFPageInterpreter\n",
    "from pdfminer.pdfpage import PDFPage\n",
    "from pdfminer.pdfparser import PDFParser\n",
    "\n",
    "import re\n",
    "import pymongo"
   ]
  },
  {
   "cell_type": "code",
   "execution_count": 38,
   "id": "5164ceb8",
   "metadata": {},
   "outputs": [],
   "source": [
    "badones = './badones'\n",
    "goodones = './goodones'"
   ]
  },
  {
   "cell_type": "code",
   "execution_count": 39,
   "id": "0eaafb8d",
   "metadata": {},
   "outputs": [
    {
     "name": "stdout",
     "output_type": "stream",
     "text": [
      "Collection(Database(MongoClient(host=['10.115.22.20:27017'], document_class=dict, tz_aware=False, connect=True), 'badtranslator'), 'cvs')\n"
     ]
    }
   ],
   "source": [
    "mg_host = os.environ.get(\"MONGO_HOST\")\n",
    "mg_username = os.environ.get(\"MONGO_USER\")\n",
    "mg_password = os.environ.get(\"MONGO_PW\")\n",
    "client = pymongo.MongoClient(f'mongodb://{mg_username}:{mg_password}@{mg_host}')\n",
    "\n",
    "cvs = client.badtranslator.cvs\n",
    "print(cvs)"
   ]
  },
  {
   "cell_type": "markdown",
   "id": "79d9cc1d",
   "metadata": {},
   "source": [
    "## 1. Extraction, preprocessing and saving of the 'fake' resumes"
   ]
  },
  {
   "cell_type": "markdown",
   "id": "a11bbfcb",
   "metadata": {},
   "source": [
    "### Utility functions"
   ]
  },
  {
   "cell_type": "code",
   "execution_count": 57,
   "id": "9aef7b2a",
   "metadata": {},
   "outputs": [],
   "source": [
    "def read_pdf(fp):\n",
    "    # PDFParser can throw out an error with certain pdf files. See:\n",
    "    # \n",
    "    output_string = StringIO()\n",
    "\n",
    "    with open(fp, 'rb') as in_file:\n",
    "        parser = PDFParser(in_file)\n",
    "        try:\n",
    "            doc = PDFDocument(parser)\n",
    "        except:\n",
    "            return False\n",
    "        else:\n",
    "            rsrcmgr = PDFResourceManager()\n",
    "            device = TextConverter(rsrcmgr, output_string, laparams=LAParams())\n",
    "            interpreter = PDFPageInterpreter(rsrcmgr, device)\n",
    "            for page in PDFPage.create_pages(doc):\n",
    "                interpreter.process_page(page)\n",
    "\n",
    "    return output_string.getvalue()\n",
    "\n",
    "multiple_spaces = re.compile(r' {2,}')\n",
    "linebreaks_regex = re.compile(r'\\n\\s*\\n')\n",
    "non_standard_chars  = re.compile(r'[^a-zA-z0-9.,!?/:;@&<>\\\"\\'\\s]')\n",
    "email_regex_good = re.compile(r'\\([A-Za-z. ]+\\)')    \n",
    "email_regex_bad = re.compile(r'([\\w.-]+@[\\w.-]+\\.\\w+)\\.pdf')\n",
    "email_regex = re.compile(r'([^(pdf)]+)\\.pdf')\n",
    "\n",
    "def cleanup(text):\n",
    "    # Minimal cleaning of the text\n",
    "    # !! The new lines (LF) can be simple or double. This is not apparent in the Jupyter Notebook\n",
    "    text = re.sub(multiple_spaces, ' ', text)\n",
    "    text = re.sub(linebreaks_regex, \"\\n\", text)\n",
    "    text = re.sub(non_standard_chars, '', text)\n",
    "    return text\n",
    "\n",
    "def insert_mongo(cv_record):\n",
    "    cvs.insert_many(list_of_cvs)\n",
    "    \n",
    "\n",
    "def append_list_cvs(document, status):\n",
    "    name = ''\n",
    "    email = ''\n",
    "    \n",
    "    raw_text = read_pdf(document.path) \n",
    "    raw_text = read_pdf(document.path)\n",
    "    if raw_text is not False:\n",
    "        clean_text = cleanup(raw_text)\n",
    "\n",
    "        if (status == 'bad'):\n",
    "            m = re.search(email_regex_bad, document.name)\n",
    "            if m is not None:\n",
    "                email = m.group(1)\n",
    "                cv_record = {\n",
    "                    \"email\": email,\n",
    "                    \"cv\": clean_text,\n",
    "                    \"status\": status\n",
    "                }\n",
    "                list_of_cvs.append(cv_record)  \n",
    "\n",
    "        elif (status == 'good'):\n",
    "            m = email_regex_good.sub(\"\", document.name)\n",
    "            m = m.replace(', ', '')\n",
    "            m = re.search(email_regex, m)\n",
    "            if m is not None:\n",
    "                name = m.group(1)\n",
    "                cv_record = {\n",
    "                    \"name\": name,\n",
    "                    \"cv\": clean_text,\n",
    "                    \"status\": status\n",
    "                }\n",
    "                \n",
    "                list_of_cvs.append(cv_record)  \n",
    "    "
   ]
  },
  {
   "cell_type": "code",
   "execution_count": 58,
   "id": "23a93308",
   "metadata": {},
   "outputs": [],
   "source": [
    "list_of_cvs = []\n",
    "\n",
    "with os.scandir(badones) as it:\n",
    "    for entry in it:\n",
    "        if entry.is_file:\n",
    "            append_list_cvs(entry, 'bad')\n",
    "\n",
    "result = insert_mongo(list_of_cvs)            "
   ]
  },
  {
   "cell_type": "markdown",
   "id": "28cfd3d6",
   "metadata": {},
   "source": [
    "## 2. Extraction, preprocessing and saving of the 'authentic' resumes"
   ]
  },
  {
   "cell_type": "code",
   "execution_count": 59,
   "id": "7af6d0ba",
   "metadata": {},
   "outputs": [],
   "source": [
    "list_of_cvs = []\n",
    "\n",
    "with os.scandir(goodones) as it:\n",
    "    for entry in it:\n",
    "        if entry.is_file:\n",
    "            append_list_cvs(entry, 'good')\n",
    "\n",
    "result = insert_mongo(list_of_cvs) "
   ]
  },
  {
   "cell_type": "code",
   "execution_count": null,
   "id": "bc5efc95",
   "metadata": {},
   "outputs": [],
   "source": []
  }
 ],
 "metadata": {
  "kernelspec": {
   "display_name": "Python 3 (ipykernel)",
   "language": "python",
   "name": "python3"
  },
  "language_info": {
   "codemirror_mode": {
    "name": "ipython",
    "version": 3
   },
   "file_extension": ".py",
   "mimetype": "text/x-python",
   "name": "python",
   "nbconvert_exporter": "python",
   "pygments_lexer": "ipython3",
   "version": "3.9.7"
  }
 },
 "nbformat": 4,
 "nbformat_minor": 5
}
